{
 "cells": [
  {
   "cell_type": "markdown",
   "metadata": {},
   "source": [
    "# Object Detection Demo For Evaluation"
   ]
  },
  {
   "cell_type": "markdown",
   "metadata": {},
   "source": [
    "<a id='another_cell'></a>"
   ]
  },
  {
   "cell_type": "code",
   "execution_count": null,
   "metadata": {},
   "outputs": [],
   "source": [
    "!python ./object_detection/eval.py \\\n",
    "    --logtostderr \\\n",
    "    --pipeline_config_path=\"./config/faster_rcnn_inception_v2_pets.config\" \\\n",
    "    --checkpoint_dir=\"PATH_TO_TRAIN_DIR\" \\\n",
    "    --eval_dir=\"PATH_TO_EVAL_DIR\""
   ]
  },
  {
   "cell_type": "markdown",
   "metadata": {},
   "source": [
    "where `${PATH_TO_YOUR_PIPELINE_CONFIG}` points to the pipeline config,\n",
    "`${CHECKPOINT_DIR}` points to the directory in which training checkpoints\n",
    "were saved (same as the training job) and `${PATH_TO_EVAL_DIR}` points to the\n",
    "directory in which evaluation events will be saved. Because one notebook has only one thread."
   ]
  },
  {
   "cell_type": "code",
   "execution_count": null,
   "metadata": {},
   "outputs": [],
   "source": []
  }
 ],
 "metadata": {
  "kernelspec": {
   "display_name": "Python 3",
   "language": "python",
   "name": "python3"
  },
  "language_info": {
   "codemirror_mode": {
    "name": "ipython",
    "version": 3
   },
   "file_extension": ".py",
   "mimetype": "text/x-python",
   "name": "python",
   "nbconvert_exporter": "python",
   "pygments_lexer": "ipython3",
   "version": "3.6.5"
  }
 },
 "nbformat": 4,
 "nbformat_minor": 2
}
